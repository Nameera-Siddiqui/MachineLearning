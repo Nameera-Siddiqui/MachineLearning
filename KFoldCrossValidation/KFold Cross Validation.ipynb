{
  "cells": [
    {
      "cell_type": "code",
      "source": [
        "import pandas as pd\n",
        "import numpy as np\n",
        "from sklearn.model_selection import train_test_split\n",
        "from sklearn.svm import SVC\n",
        "from sklearn.linear_model import LinearRegression\n",
        "from sklearn.linear_model import LogisticRegression\n",
        "from sklearn.ensemble import RandomForestClassifier\n",
        "from sklearn.datasets import load_digits\n",
        "digits = load_digits()"
      ],
      "metadata": {
        "id": "kmBefw1mc031"
      },
      "execution_count": 3,
      "outputs": []
    },
    {
      "cell_type": "code",
      "source": [
        "dir(digits)"
      ],
      "metadata": {
        "id": "YdFAYTnfeHBk",
        "outputId": "9cc3f8da-f962-4a80-9c0f-159bdace48e4",
        "colab": {
          "base_uri": "https://localhost:8080/"
        }
      },
      "execution_count": 5,
      "outputs": [
        {
          "output_type": "execute_result",
          "data": {
            "text/plain": [
              "['DESCR', 'data', 'feature_names', 'frame', 'images', 'target', 'target_names']"
            ]
          },
          "metadata": {},
          "execution_count": 5
        }
      ]
    },
    {
      "cell_type": "code",
      "source": [
        "X = digits.data\n",
        "y = digits.target\n",
        "X_train, X_test, y_train, y_test = train_test_split(X,y, test_size=0.2)"
      ],
      "metadata": {
        "id": "ZcOpY9WXdwVW"
      },
      "execution_count": 6,
      "outputs": []
    },
    {
      "cell_type": "code",
      "source": [
        "lr = LogisticRegression(max_iter=1000)\n",
        "lr.fit(X_train,y_train)\n",
        "lr.score(X_test,y_test)"
      ],
      "metadata": {
        "id": "nKngrQFLeNAV",
        "outputId": "513ba073-e7f0-4c73-9d5e-3399ffb9b62a",
        "colab": {
          "base_uri": "https://localhost:8080/"
        }
      },
      "execution_count": 7,
      "outputs": [
        {
          "output_type": "execute_result",
          "data": {
            "text/plain": [
              "0.95"
            ]
          },
          "metadata": {},
          "execution_count": 7
        }
      ]
    },
    {
      "cell_type": "code",
      "source": [
        "lir = LinearRegression()\n",
        "lir.fit(X_train,y_train)\n",
        "lir.score(X_test,y_test)"
      ],
      "metadata": {
        "id": "po1-7sMfejHe",
        "outputId": "720f5a45-8a5d-4759-c22b-7857c8ac3112",
        "colab": {
          "base_uri": "https://localhost:8080/"
        }
      },
      "execution_count": 8,
      "outputs": [
        {
          "output_type": "execute_result",
          "data": {
            "text/plain": [
              "0.5625739015532996"
            ]
          },
          "metadata": {},
          "execution_count": 8
        }
      ]
    },
    {
      "cell_type": "code",
      "source": [
        "svm = SVC()\n",
        "svm.fit(X_train,y_train)\n",
        "svm.score(X_test,y_test)"
      ],
      "metadata": {
        "id": "XWsfesm3ei7T",
        "outputId": "153c11cf-eee4-4cb0-a9dd-47990debcbe5",
        "colab": {
          "base_uri": "https://localhost:8080/"
        }
      },
      "execution_count": 9,
      "outputs": [
        {
          "output_type": "execute_result",
          "data": {
            "text/plain": [
              "0.9833333333333333"
            ]
          },
          "metadata": {},
          "execution_count": 9
        }
      ]
    },
    {
      "cell_type": "code",
      "source": [
        "rf = RandomForestClassifier()\n",
        "rf.fit(X_train,y_train)\n",
        "rf.score(X_test,y_test)"
      ],
      "metadata": {
        "id": "_N21-747e2mw",
        "outputId": "17f51ea0-b576-4fc2-b36f-e41effafcbdf",
        "colab": {
          "base_uri": "https://localhost:8080/"
        }
      },
      "execution_count": 10,
      "outputs": [
        {
          "output_type": "execute_result",
          "data": {
            "text/plain": [
              "0.9722222222222222"
            ]
          },
          "metadata": {},
          "execution_count": 10
        }
      ]
    },
    {
      "cell_type": "code",
      "source": [
        "#Applying K Fold\n",
        "from sklearn.model_selection import KFold\n",
        "kf = KFold(n_splits=3)\n",
        "kf"
      ],
      "metadata": {
        "id": "AoVAzzwdfAhS",
        "outputId": "1b18cb0d-6a5e-4963-9f3c-9fd194d3aa3f",
        "colab": {
          "base_uri": "https://localhost:8080/"
        }
      },
      "execution_count": 11,
      "outputs": [
        {
          "output_type": "execute_result",
          "data": {
            "text/plain": [
              "KFold(n_splits=3, random_state=None, shuffle=False)"
            ]
          },
          "metadata": {},
          "execution_count": 11
        }
      ]
    },
    {
      "cell_type": "code",
      "source": [
        "for train_index, test_index in kf.split([1,2,3,4,5,6,7,8,9,10]):\n",
        "    print(train_index, test_index)"
      ],
      "metadata": {
        "id": "amH6u-FIfJrd",
        "outputId": "0d4a495b-dc84-4936-c39a-30061b014ac8",
        "colab": {
          "base_uri": "https://localhost:8080/"
        }
      },
      "execution_count": 12,
      "outputs": [
        {
          "output_type": "stream",
          "name": "stdout",
          "text": [
            "[4 5 6 7 8 9] [0 1 2 3]\n",
            "[0 1 2 3 7 8 9] [4 5 6]\n",
            "[0 1 2 3 4 5 6] [7 8 9]\n"
          ]
        }
      ]
    },
    {
      "cell_type": "code",
      "source": [
        "#What it does is that it will divide into multiple train test splits and feed model for better performance\n",
        "def getscore(model,X_train,X_test,y_train,y_test):\n",
        "    model.fit(X_train,y_train)\n",
        "    return model.score(X_test,y_test)\n",
        "    #A Function for easily getting the score one by 1"
      ],
      "metadata": {
        "id": "exhglQ1ufQ8V"
      },
      "execution_count": 13,
      "outputs": []
    },
    {
      "cell_type": "code",
      "source": [
        "getscore(svm,X_train,X_test,y_train,y_test)"
      ],
      "metadata": {
        "id": "DMFCDO2wf2CY",
        "outputId": "de3bb4f5-530a-43d2-b305-e33f124445d2",
        "colab": {
          "base_uri": "https://localhost:8080/"
        }
      },
      "execution_count": 14,
      "outputs": [
        {
          "output_type": "execute_result",
          "data": {
            "text/plain": [
              "0.9833333333333333"
            ]
          },
          "metadata": {},
          "execution_count": 14
        }
      ]
    },
    {
      "cell_type": "code",
      "source": [
        "from sklearn.model_selection import cross_val_score\n",
        "cross_val_score(svm,X,y,cv=3) #CV defines the no of folds"
      ],
      "metadata": {
        "id": "dE2YcBMfgEMn",
        "outputId": "7ea96f56-6f22-463c-cb73-f03290adf964",
        "colab": {
          "base_uri": "https://localhost:8080/"
        }
      },
      "execution_count": 17,
      "outputs": [
        {
          "output_type": "execute_result",
          "data": {
            "text/plain": [
              "array([0.96494157, 0.97996661, 0.96494157])"
            ]
          },
          "metadata": {},
          "execution_count": 17
        }
      ]
    },
    {
      "cell_type": "code",
      "source": [
        "cross_val_score(lr,X,y,cv=3)"
      ],
      "metadata": {
        "id": "KirSjLcVgji5",
        "outputId": "20c27575-4e16-4e9c-94fe-d955dce514e1",
        "colab": {
          "base_uri": "https://localhost:8080/"
        }
      },
      "execution_count": 18,
      "outputs": [
        {
          "output_type": "execute_result",
          "data": {
            "text/plain": [
              "array([0.91986644, 0.94323873, 0.91652755])"
            ]
          },
          "metadata": {},
          "execution_count": 18
        }
      ]
    },
    {
      "cell_type": "code",
      "source": [
        "cross_val_score(lir,X,y,cv=3)"
      ],
      "metadata": {
        "id": "cW3gYYGIgnTE",
        "outputId": "5316f8a3-9537-4a3e-87a9-31d0580b693d",
        "colab": {
          "base_uri": "https://localhost:8080/"
        }
      },
      "execution_count": 19,
      "outputs": [
        {
          "output_type": "execute_result",
          "data": {
            "text/plain": [
              "array([0.52105031, 0.56814242, 0.41943985])"
            ]
          },
          "metadata": {},
          "execution_count": 19
        }
      ]
    },
    {
      "cell_type": "code",
      "source": [
        "cross_val_score(rf,X,y,cv=3)"
      ],
      "metadata": {
        "id": "IhhbaizbgrIK",
        "outputId": "cb9b7c01-d045-447b-ccb6-0e66afbb9b8c",
        "colab": {
          "base_uri": "https://localhost:8080/"
        }
      },
      "execution_count": 20,
      "outputs": [
        {
          "output_type": "execute_result",
          "data": {
            "text/plain": [
              "array([0.93155259, 0.95325543, 0.92821369])"
            ]
          },
          "metadata": {},
          "execution_count": 20
        }
      ]
    },
    {
      "cell_type": "code",
      "source": [
        "#Using Mean Function to Calculate Avg Value\n",
        "import matplotlib.pyplot as plt\n",
        "%matplotlib inline\n",
        "categories = ['Fold 1','Fold 2','Fold 3','Fold 4' , 'Fold 5']\n",
        "scores = cross_val_score(rf,X,y,cv=5)\n",
        "plt.bar(categories,scores,width = 0.8, color = 'violet')\n",
        "plt.xlabel('Fold')\n",
        "plt.ylabel('Score')\n",
        "plt.title('Cross Validation Score')\n",
        "for i,score in enumerate(scores):\n",
        "    plt.text(i,score, \"score\" , ha = 'center', va = 'bottom')\n",
        "plt.show()"
      ],
      "metadata": {
        "id": "pv8TZFlDg1hb",
        "outputId": "907ced58-2e6e-4f5b-eed0-5acb359838a4",
        "colab": {
          "base_uri": "https://localhost:8080/",
          "height": 472
        }
      },
      "execution_count": 22,
      "outputs": [
        {
          "output_type": "display_data",
          "data": {
            "text/plain": [
              "<Figure size 640x480 with 1 Axes>"
            ],
            "image/png": "[encoded data removed]"
          },
          "metadata": {}
        }
      ]
    },
    {
      "cell_type": "code",
      "source": [
        "categeries = ['Fold 1','Fold 2','Fold 3','Fold 4','Fold 5']\n",
        "score1 = cross_val_score(lir, X,y, cv=5)\n",
        "score2 = cross_val_score(svm, X,y, cv=5)\n",
        "import matplotlib.pyplot as plt\n",
        "%matplotlib inline\n",
        "\n",
        "categeries = ['Fold 1','Fold 2','Fold 3','Fold 4','Fold 5']\n",
        "score1 = cross_val_score(lir, X,y, cv=5)\n",
        "score2 = cross_val_score(svm, X,y, cv=5)\n",
        "\n",
        "# Create the bar plot\n",
        "\n",
        "x = np.arange(len(categeries))\n",
        "# Bar width\n",
        "bar_width = 0.35\n",
        "\n",
        "# Assign different colors for each fold\n",
        "colors1 = ['red', 'green', 'skyblue', 'orange', 'violet']\n",
        "colors2 = ['pink', 'yellow', 'cyan', 'lime', 'brown']\n",
        "\n",
        "for i in range(len(categeries)):\n",
        "  plt.bar(x[i] - bar_width / 2, score1, width=bar_width, color=colors1[i])\n",
        "  plt.bar(x[i] + bar_width / 2, score2, width=bar_width, color=colors2[i])\n",
        "\n",
        "plt.xlabel('Fold')\n",
        "plt.ylabel('Score')\n",
        "plt.title('Cross Validation Scores')\n",
        "\n",
        "for i, score in enumerate(score1):\n",
        "  plt.text(i, score, f'{score:.2f}', ha='center', va='bottom')\n",
        "\n",
        "for i, score in enumerate(score2):\n",
        "  plt.text(i, score, f'{score:.2f}', ha='center', va='bottom')\n",
        "\n",
        "plt.show()"
      ],
      "metadata": {
        "id": "JNP6wj7LiqgB",
        "outputId": "42413bef-0b3d-480d-b8d1-cff02d84d7f7",
        "colab": {
          "base_uri": "https://localhost:8080/",
          "height": 472
        }
      },
      "execution_count": 24,
      "outputs": [
        {
          "output_type": "display_data",
          "data": {
            "text/plain": [
              "<Figure size 640x480 with 1 Axes>"
            ],
            "image/png": "[encoded data removed]"
          },
          "metadata": {}
        }
      ]
    }
  ],
  "metadata": {
    "colab": {
      "name": "Welcome To Colab",
      "toc_visible": true,
      "provenance": []
    },
    "kernelspec": {
      "display_name": "Python 3",
      "name": "python3"
    }
  },
  "nbformat": 4,
  "nbformat_minor": 0
}